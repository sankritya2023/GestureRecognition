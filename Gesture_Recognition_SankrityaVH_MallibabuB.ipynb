{
 "cells": [
  {
   "cell_type": "markdown",
   "metadata": {},
   "source": [
    "# Gesture Recognition\n",
    "In this group project, you are going to build a 3D Conv model that will be able to predict the 5 gestures correctly. Please import the following libraries to get started. Once you have completed the code you can download the notebook for making a submission."
   ]
  },
  {
   "cell_type": "code",
   "execution_count": null,
   "metadata": {},
   "outputs": [],
   "source": [
    "import numpy as np\n",
    "import os\n",
    "from imageio import imread\n",
    "from skimage.transform import resize\n",
    "import datetime\n",
    "import os"
   ]
  },
  {
   "cell_type": "markdown",
   "metadata": {},
   "source": [
    "We set the random seed so that the results don't vary drastically."
   ]
  },
  {
   "cell_type": "code",
   "execution_count": null,
   "metadata": {},
   "outputs": [],
   "source": [
    "np.random.seed(30)\n",
    "import random as rn\n",
    "rn.seed(30)\n",
    "from tensorflow import keras\n",
    "import tensorflow as tf\n",
    "tf.random.set_seed(30)"
   ]
  },
  {
   "cell_type": "markdown",
   "metadata": {},
   "source": [
    "In this block, you read the folder names for training and validation. You also set the `batch_size` here. Note that you set the batch size in such a way that you are able to use the GPU in full capacity. You keep increasing the batch size until the machine throws an error."
   ]
  },
  {
   "cell_type": "markdown",
   "metadata": {},
   "source": [
    "**data path: /home/datasets/Project_data**"
   ]
  },
  {
   "cell_type": "code",
   "execution_count": null,
   "metadata": {},
   "outputs": [],
   "source": [
    "train_doc = np.random.permutation(open('/home/datasets/Project_data/train.csv').readlines())\n",
    "val_doc = np.random.permutation(open('/home/datasets/Project_data/val.csv').readlines())\n",
    "\n",
    "batch_size = 35"
   ]
  },
  {
   "cell_type": "markdown",
   "metadata": {},
   "source": [
    "## Generator\n",
    "This is one of the most important part of the code. The overall structure of the generator has been given. In the generator, you are going to preprocess the images as you have images of 2 different dimensions as well as create a batch of video frames. You have to experiment with `img_idx`, `y`,`z` and normalization such that you get high accuracy."
   ]
  },
  {
   "cell_type": "code",
   "execution_count": null,
   "metadata": {},
   "outputs": [],
   "source": [
    "#sample x y z invocations\n",
    "# x = 30 # No. of frames images\n",
    "# y = 100 # Width of the image\n",
    "# z = 100 # height\n",
    "\n",
    "def generator(source_path, folder_list, batch_size,x,y,z):\n",
    "    print( 'Source path = ', source_path, '; batch size =', batch_size)\n",
    "    img_idx =[i for i in range(0, x)] #create a list of image numbers you want to use for a particular video\n",
    "    while True:\n",
    "        t = np.random.permutation(folder_list)\n",
    "        num_batches = len(folder_list)//batch_size # calculate the number of batches\n",
    "        for batch in range(num_batches): # we iterate over the number of batches\n",
    "            batch_data = np.zeros((batch_size,x,y,z,3)) # x is the number of images you use for each video, (y,z) is the final size of the input images and 3 is the number of channels RGB\n",
    "            batch_labels = np.zeros((batch_size,5)) # batch_labels is the one hot representation of the output\n",
    "            for folder in range(batch_size): # iterate over the batch_size\n",
    "                imgs = os.listdir(source_path+'/'+ t[folder + (batch*batch_size)].split(';')[0]) # read all the images in the folder\n",
    "                for idx,item in enumerate(img_idx): #  Iterate iver the frames/images of a folder to read them in\n",
    "                    image = imread(source_path+'/'+ t[folder + (batch*batch_size)].strip().split(';')[0]+'/'+imgs[item]).astype(np.float32)\n",
    "                    \n",
    "                    #crop the images and resize them. Note that the images are of 2 different shape \n",
    "                    #and the conv3D will throw error if the inputs in a batch have different shapes\n",
    "                    image = resize(image, (y, z))  # Resizing to (y,z,3)\n",
    "                    \n",
    "                    batch_data[folder,idx,:,:,0] =  image[:, :, 0] / 255.0 #normalise and feed in the image\n",
    "                    batch_data[folder,idx,:,:,1] =  image[:, :, 1] / 255.0 #normalise and feed in the image\n",
    "                    batch_data[folder,idx,:,:,2] =  image[:, :, 2] / 255.0 #normalise and feed in the image\n",
    "                    \n",
    "                batch_labels[folder, int(t[folder + (batch*batch_size)].strip().split(';')[2])] = 1\n",
    "            yield batch_data, batch_labels #you yield the batch_data and the batch_labels, remember what does yield do\n",
    "\n",
    "        \n",
    "        # write the code for the remaining data points which are left after full batches\n",
    "        if len(folder_list) % batch_size != 0:\n",
    "            remaining_folders = folder_list[num_batches * batch_size:]\n",
    "            batch_size_remaining = len(remaining_folders)\n",
    "\n",
    "            batch_data = np.zeros((batch_size_remaining,x,y,z,3))\n",
    "            batch_labels = np.zeros((batch_size_remaining, 5))\n",
    "\n",
    "            for folder in range(batch_size_remaining):\n",
    "                folder_name = remaining_folders[folder].split(';')[0]\n",
    "                imgs = os.listdir(source_path + '/' + folder_name)\n",
    "\n",
    "                for idx, item in enumerate(img_idx):\n",
    "                    image = imread(source_path + '/' + folder_name + '/' + imgs[item]).astype(np.float32)\n",
    "                    image = resize(image, (y, z))\n",
    "\n",
    "                    batch_data[folder, idx, :, :, 0] = image[:, :, 0] / 255.0\n",
    "                    batch_data[folder, idx, :, :, 1] = image[:, :, 1] / 255.0\n",
    "                    batch_data[folder, idx, :, :, 2] = image[:, :, 2] / 255.0\n",
    "\n",
    "                batch_labels[folder, int(remaining_folders[folder].strip().split(';')[2])] = 1\n",
    "            yield batch_data, batch_labels\n"
   ]
  },
  {
   "cell_type": "markdown",
   "metadata": {},
   "source": [
    "Note here that a video is represented above in the generator as (number of images, height, width, number of channels). Take this into consideration while creating the model architecture."
   ]
  },
  {
   "cell_type": "code",
   "execution_count": null,
   "metadata": {},
   "outputs": [],
   "source": [
    "curr_dt_time = datetime.datetime.now()\n",
    "# train_path = '/kaggle/working/Project_data/train'\n",
    "# val_path = '/kaggle/working/Project_data/val'\n",
    "train_path = '/home/datasets/Project_data/train' ##From Jarvis, same below\n",
    "val_path = '/home/datasets/Project_data/val'\n",
    "num_train_sequences = len(train_doc)\n",
    "print('# training sequences =', num_train_sequences)\n",
    "num_val_sequences = len(val_doc)\n",
    "print('# validation sequences =', num_val_sequences)\n",
    "num_epochs = 15 ## default initiali take 15 only\n",
    "print ('# epochs =', num_epochs)"
   ]
  },
  {
   "cell_type": "code",
   "execution_count": null,
   "metadata": {},
   "outputs": [],
   "source": [
    "# define function for plotting\n",
    "import matplotlib.pyplot as plt\n",
    "def plot(history):\n",
    "    fig, axes = plt.subplots(nrows=1, ncols=2, figsize=(15,4))\n",
    "    axes[0].plot(history.history['loss'])   \n",
    "    axes[0].plot(history.history['val_loss'])\n",
    "    axes[0].legend(['loss','val_loss'])\n",
    "\n",
    "    axes[1].plot(history.history['categorical_accuracy'])   \n",
    "    axes[1].plot(history.history['val_categorical_accuracy'])\n",
    "    axes[1].legend(['categorical_accuracy','val_categorical_accuracy'])"
   ]
  },
  {
   "cell_type": "markdown",
   "metadata": {},
   "source": [
    "## Model\n",
    "Here we made the model using different functionalities that Keras provides: Remember to use `Conv3D` and `MaxPooling3D` and not `Conv2D` and `Maxpooling2D` for a 3D convolution model. You would want to use `TimeDistributed` while building a Conv2D + RNN model. Also remember that the last layer is the softmax. Design the network in such a way that the model is able to give good accuracy on the least number of parameters so that it can fit in the memory of the webcam."
   ]
  },
  {
   "cell_type": "markdown",
   "metadata": {},
   "source": [
    "####  Model1: 100x100 image with CNN3D"
   ]
  },
  {
   "cell_type": "code",
   "execution_count": null,
   "metadata": {},
   "outputs": [],
   "source": [
    "#Import keras packages\n",
    "\n",
    "from tensorflow.keras.models import Sequential\n",
    "from tensorflow.keras.layers import Dense, GRU, Dropout, Flatten, BatchNormalization, Activation, Conv3D, MaxPooling3D\n",
    "from tensorflow.keras.callbacks import ModelCheckpoint, ReduceLROnPlateau\n",
    "from tensorflow.keras import optimizers\n",
    "from tensorflow.keras.optimizers import Adam\n",
    "x=30\n",
    "y=100\n",
    "z=100\n",
    "#Model\n",
    "model_1 = Sequential()       \n",
    "model_1.add(Conv3D(8,kernel_size=(3,3,3),input_shape=(30, y, z, 3),padding='same'))\n",
    "model_1.add(BatchNormalization())\n",
    "model_1.add(Activation('relu'))\n",
    "\n",
    "model_1.add(Conv3D(16, (3, 3, 3), padding='same'))\n",
    "model_1.add(Activation('relu'))\n",
    "model_1.add(BatchNormalization())\n",
    "model_1.add(MaxPooling3D(pool_size=(2, 2, 2)))\n",
    "\n",
    "model_1.add(Conv3D(32, (2, 2, 2), padding='same'))\n",
    "model_1.add(Activation('relu'))\n",
    "model_1.add(BatchNormalization())\n",
    "model_1.add(MaxPooling3D(pool_size=(2, 2, 2)))\n",
    "\n",
    "model_1.add(Conv3D(64, (2, 2, 2), padding='same'))\n",
    "model_1.add(Activation('relu'))\n",
    "model_1.add(BatchNormalization())\n",
    "model_1.add(MaxPooling3D(pool_size=(2, 2, 2)))\n",
    "\n",
    "model_1.add(Conv3D(128, (2, 2, 2), padding='same'))\n",
    "model_1.add(Activation('relu'))\n",
    "model_1.add(BatchNormalization())\n",
    "model_1.add(MaxPooling3D(pool_size=(2, 2, 2)))      \n",
    "\n",
    "# Flatten layer \n",
    "\n",
    "model_1.add(Flatten())\n",
    "\n",
    "model_1.add(Dense(128, activation='relu'))\n",
    "model_1.add(Dropout(0.5))\n",
    "\n",
    "model_1.add(Dense(64, activation='relu'))\n",
    "model_1.add(Dropout(0.5))\n",
    "\n",
    "#Softmax layer\n",
    "\n",
    "model_1.add(Dense(5, activation='softmax'))"
   ]
  },
  {
   "cell_type": "markdown",
   "metadata": {},
   "source": [
    "Now that you have written the model, the next step is to `compile` the model. When you print the `summary` of the model, you'll see the total number of parameters you have to train."
   ]
  },
  {
   "cell_type": "code",
   "execution_count": null,
   "metadata": {
    "scrolled": true
   },
   "outputs": [],
   "source": [
    "from tensorflow.keras.optimizers import Adam\n",
    "optimiser = Adam(learning_rate=0.01)#write your optimizer\n",
    "model_1.compile(optimizer=optimiser, loss='categorical_crossentropy', metrics=['categorical_accuracy'])\n",
    "print (model_1.summary())"
   ]
  },
  {
   "cell_type": "markdown",
   "metadata": {},
   "source": [
    "Let us create the `train_generator` and the `val_generator` which will be used in `.fit_generator`."
   ]
  },
  {
   "cell_type": "code",
   "execution_count": null,
   "metadata": {},
   "outputs": [],
   "source": [
    "train_generator = generator(train_path, train_doc, batch_size,x,y,z)\n",
    "val_generator = generator(val_path, val_doc, batch_size,x,y,z)"
   ]
  },
  {
   "cell_type": "code",
   "execution_count": null,
   "metadata": {},
   "outputs": [],
   "source": [
    "model_name = 'model_init' + '_' + str(curr_dt_time).replace(' ','').replace(':','_') + '/'\n",
    "    \n",
    "if not os.path.exists(model_name):\n",
    "    os.mkdir(model_name)\n",
    "        \n",
    "filepath = model_name + 'model-{epoch:05d}-{loss:.5f}-{categorical_accuracy:.5f}-{val_loss:.5f}-{val_categorical_accuracy:.5f}.keras'\n",
    "\n",
    "checkpoint = ModelCheckpoint(filepath, monitor='val_loss', verbose=1, save_best_only=False, save_weights_only=False, mode='auto',save_freq = 'epoch')\n",
    "\n",
    "LR = ReduceLROnPlateau(monitor='val_loss', factor=0.2, patience=4, verbose=1)# write the REducelronplateau code here\n",
    "callbacks_list = [checkpoint, LR]"
   ]
  },
  {
   "cell_type": "markdown",
   "metadata": {},
   "source": [
    "The `steps_per_epoch` and `validation_steps` are used by `fit` method to decide the number of next() calls it need to make."
   ]
  },
  {
   "cell_type": "code",
   "execution_count": null,
   "metadata": {},
   "outputs": [],
   "source": [
    "if (num_train_sequences%batch_size) == 0:\n",
    "    steps_per_epoch = int(num_train_sequences/batch_size)\n",
    "else:\n",
    "    steps_per_epoch = (num_train_sequences//batch_size) + 1\n",
    "\n",
    "if (num_val_sequences%batch_size) == 0:\n",
    "    validation_steps = int(num_val_sequences/batch_size)\n",
    "else:\n",
    "    validation_steps = (num_val_sequences//batch_size) + 1"
   ]
  },
  {
   "cell_type": "markdown",
   "metadata": {},
   "source": [
    "Let us now fit the model. This will start training the model and with the help of the checkpoints, you'll be able to save the model at the end of each epoch."
   ]
  },
  {
   "cell_type": "code",
   "execution_count": null,
   "metadata": {},
   "outputs": [],
   "source": [
    "history1=model_1.fit(train_generator, steps_per_epoch=steps_per_epoch, epochs=num_epochs, verbose=1, \n",
    "                    callbacks=callbacks_list, validation_data=val_generator, \n",
    "                    validation_steps=validation_steps, class_weight=None, initial_epoch=0)"
   ]
  },
  {
   "cell_type": "code",
   "execution_count": null,
   "metadata": {},
   "outputs": [],
   "source": [
    "plot(history1)"
   ]
  },
  {
   "cell_type": "markdown",
   "metadata": {},
   "source": [
    "### Model2: 160x160 image with CNN3D"
   ]
  },
  {
   "cell_type": "code",
   "execution_count": null,
   "metadata": {},
   "outputs": [],
   "source": [
    "x=30\n",
    "y=160\n",
    "z=160\n",
    "#write your model here\n",
    "model_2 = Sequential()       \n",
    "model_2.add(Conv3D(8,kernel_size=(3,3,3),input_shape=(30, y, z, 3),padding='same'))\n",
    "model_2.add(BatchNormalization())\n",
    "model_2.add(Activation('relu'))\n",
    "\n",
    "model_2.add(Conv3D(16, (3, 3, 3), padding='same'))\n",
    "model_2.add(Activation('relu'))\n",
    "model_2.add(BatchNormalization())\n",
    "model_2.add(MaxPooling3D(pool_size=(2, 2, 2)))\n",
    "\n",
    "model_2.add(Conv3D(32, (2, 2, 2), padding='same'))\n",
    "model_2.add(Activation('relu'))\n",
    "model_2.add(BatchNormalization())\n",
    "model_2.add(MaxPooling3D(pool_size=(2, 2, 2)))\n",
    "\n",
    "model_2.add(Conv3D(64, (2, 2, 2), padding='same'))\n",
    "model_2.add(Activation('relu'))\n",
    "model_2.add(BatchNormalization())\n",
    "model_2.add(MaxPooling3D(pool_size=(2, 2, 2)))\n",
    "\n",
    "model_2.add(Conv3D(128, (2, 2, 2), padding='same'))\n",
    "model_2.add(Activation('relu'))\n",
    "model_2.add(BatchNormalization())\n",
    "model_2.add(MaxPooling3D(pool_size=(2, 2, 2)))      \n",
    "\n",
    "# Flatten layer \n",
    "\n",
    "model_2.add(Flatten())\n",
    "\n",
    "model_2.add(Dense(128, activation='relu'))\n",
    "model_2.add(Dropout(0.5))\n",
    "\n",
    "model_2.add(Dense(64, activation='relu'))\n",
    "model_2.add(Dropout(0.5))\n",
    "\n",
    "#Softmax layer\n",
    "\n",
    "model_2.add(Dense(5, activation='softmax'))"
   ]
  },
  {
   "cell_type": "code",
   "execution_count": null,
   "metadata": {},
   "outputs": [],
   "source": [
    "from tensorflow.keras.optimizers import Adam\n",
    "optimiser = Adam(learning_rate=0.001)#write your optimizer\n",
    "model_2.compile(optimizer=optimiser, loss='categorical_crossentropy', metrics=['categorical_accuracy'])\n",
    "print (model_2.summary())"
   ]
  },
  {
   "cell_type": "code",
   "execution_count": null,
   "metadata": {},
   "outputs": [],
   "source": [
    "train_generator = generator(train_path, train_doc, batch_size,x,y,z)\n",
    "val_generator = generator(val_path, val_doc, batch_size,x,y,z)"
   ]
  },
  {
   "cell_type": "code",
   "execution_count": null,
   "metadata": {},
   "outputs": [],
   "source": [
    "history2=model_2.fit(train_generator, steps_per_epoch=steps_per_epoch, epochs=20, verbose=1, \n",
    "                    callbacks=callbacks_list, validation_data=val_generator, \n",
    "                    validation_steps=validation_steps, class_weight=None, initial_epoch=0,workers=1)"
   ]
  },
  {
   "cell_type": "code",
   "execution_count": null,
   "metadata": {},
   "outputs": [],
   "source": [
    "plot(history2)"
   ]
  },
  {
   "cell_type": "markdown",
   "metadata": {},
   "source": [
    "### Model3: with 160X160 and batch size 60 (using model2 and new batch size)"
   ]
  },
  {
   "cell_type": "code",
   "execution_count": null,
   "metadata": {},
   "outputs": [],
   "source": [
    "batch_size = 60\n",
    "train_generator = generator(train_path, train_doc, batch_size,x,y,z)\n",
    "val_generator = generator(val_path, val_doc, batch_size,x,y,z)"
   ]
  },
  {
   "cell_type": "code",
   "execution_count": null,
   "metadata": {},
   "outputs": [],
   "source": [
    "# The commented code in this cell refers to Experiment 3 in write-up. The code failed due to memory issue.\n",
    "\n",
    "# history3=model_2.fit(train_generator, steps_per_epoch=steps_per_epoch, epochs=num_epochs, verbose=1, \n",
    "#                     callbacks=callbacks_list, validation_data=val_generator, \n",
    "#                     validation_steps=validation_steps, class_weight=None, initial_epoch=0)"
   ]
  },
  {
   "cell_type": "markdown",
   "metadata": {},
   "source": [
    "### Model4: different set of Conv3d filter and Dense layer"
   ]
  },
  {
   "cell_type": "code",
   "execution_count": null,
   "metadata": {},
   "outputs": [],
   "source": [
    "x = 30 # number of frames\n",
    "y = 120 # image width\n",
    "z = 120 # image height\n",
    "\n",
    "# Input all the images sequencial by building the layer with dropouts and batch normalisation\n",
    "\n",
    "model_4 = Sequential()       \n",
    "model_4.add(Conv3D(8,kernel_size=(2,2,2),input_shape=(x,y,z,3),padding='same'))\n",
    "model_4.add(BatchNormalization())\n",
    "model_4.add(Activation('relu'))\n",
    "\n",
    "model_4.add(Conv3D(16, (2, 2, 2), padding='same'))\n",
    "model_4.add(Activation('relu'))\n",
    "model_4.add(BatchNormalization())\n",
    "model_4.add(MaxPooling3D(pool_size=(2, 2, 2)))\n",
    "\n",
    "model_4.add(Conv3D(32, (2, 2, 2), padding='same'))\n",
    "model_4.add(Activation('relu'))\n",
    "model_4.add(BatchNormalization())\n",
    "model_4.add(MaxPooling3D(pool_size=(2, 2, 2)))\n",
    "\n",
    "model_4.add(Conv3D(64, (2, 2, 2), padding='same'))\n",
    "model_4.add(Activation('relu'))\n",
    "model_4.add(BatchNormalization())\n",
    "model_4.add(MaxPooling3D(pool_size=(2, 2, 2)))\n",
    "\n",
    "# Flatten layer \n",
    "\n",
    "model_4.add(Flatten())\n",
    "\n",
    "model_4.add(Dense(256, activation='relu'))\n",
    "model_4.add(Dropout(0.2))\n",
    "\n",
    "model_4.add(Dense(128, activation='relu'))\n",
    "model_4.add(Dropout(0.2))\n",
    "\n",
    "#Softmax layer\n",
    "\n",
    "model_4.add(Dense(5, activation='softmax'))"
   ]
  },
  {
   "cell_type": "code",
   "execution_count": null,
   "metadata": {},
   "outputs": [],
   "source": [
    "optimiser = Adam(learning_rate=0.01)#write your optimizer\n",
    "model_4.compile(optimizer=optimiser, loss='categorical_crossentropy', metrics=['categorical_accuracy'])\n",
    "print (model_4.summary())"
   ]
  },
  {
   "cell_type": "code",
   "execution_count": null,
   "metadata": {},
   "outputs": [],
   "source": [
    "batch_size = 15\n",
    "train_generator = generator(train_path, train_doc, batch_size,x,y,z)\n",
    "val_generator = generator(val_path, val_doc, batch_size,x,y,z)"
   ]
  },
  {
   "cell_type": "code",
   "execution_count": null,
   "metadata": {},
   "outputs": [],
   "source": [
    "history4=model_4.fit(train_generator, steps_per_epoch=steps_per_epoch, epochs=num_epochs, verbose=1, \n",
    "                    callbacks=callbacks_list, validation_data=val_generator, \n",
    "                    validation_steps=validation_steps, class_weight=None, initial_epoch=0)"
   ]
  },
  {
   "cell_type": "code",
   "execution_count": null,
   "metadata": {},
   "outputs": [],
   "source": [
    "plot(history4)"
   ]
  },
  {
   "cell_type": "markdown",
   "metadata": {},
   "source": [
    "### Model5: CNN + LSTM"
   ]
  },
  {
   "cell_type": "code",
   "execution_count": null,
   "metadata": {},
   "outputs": [],
   "source": [
    "from keras.layers import Dense, GRU, Flatten, TimeDistributed, Bidirectional, BatchNormalization, Activation, Dropout, GlobalAveragePooling2D, GlobalAveragePooling3D, ConvLSTM2D\n",
    "from keras.layers.convolutional import Conv2D, Conv3D, MaxPooling2D, MaxPooling3D\n",
    "from keras import optimizers\n",
    "\n",
    "\n",
    "x = 30 # number of frames\n",
    "y = 120 # image width\n",
    "z = 120 # image height\n",
    "\n",
    "model_5 = Sequential()\n",
    "model_5.add(TimeDistributed(Conv2D(8, (3,3), activation='relu'), input_shape=(x,y,z,3)))\n",
    "model_5.add(BatchNormalization())\n",
    "model_5.add(TimeDistributed(Conv2D(16, (3,3), activation='relu')))\n",
    "model_5.add(BatchNormalization())\n",
    "model_5.add(ConvLSTM2D(8, kernel_size = 3, return_sequences=False))\n",
    "model_5.add(BatchNormalization())\n",
    "model_5.add(TimeDistributed(Dense(64, activation='relu')))\n",
    "model_5.add(BatchNormalization())\n",
    "model_5.add(GlobalAveragePooling2D())\n",
    "model_5.add(Dense(64, activation='relu'))\n",
    "model_5.add(Dense(5, activation='softmax'))"
   ]
  },
  {
   "cell_type": "code",
   "execution_count": null,
   "metadata": {},
   "outputs": [],
   "source": [
    "optimiser = Adam(learning_rate=0.001)#write your optimizer\n",
    "model_5.compile(optimizer=optimiser, loss='categorical_crossentropy', metrics=['categorical_accuracy'])\n",
    "print (model_5.summary())"
   ]
  },
  {
   "cell_type": "code",
   "execution_count": null,
   "metadata": {},
   "outputs": [],
   "source": [
    "batch_size = 15\n",
    "train_generator = generator(train_path, train_doc, batch_size,x,y,z)\n",
    "val_generator = generator(val_path, val_doc, batch_size,x,y,z)"
   ]
  },
  {
   "cell_type": "code",
   "execution_count": null,
   "metadata": {},
   "outputs": [],
   "source": [
    "history5=model_5.fit(train_generator, steps_per_epoch=steps_per_epoch, epochs=num_epochs, verbose=1, \n",
    "                    callbacks=callbacks_list, validation_data=val_generator, \n",
    "                    validation_steps=validation_steps, class_weight=None, initial_epoch=0,workers=1)"
   ]
  },
  {
   "cell_type": "code",
   "execution_count": null,
   "metadata": {},
   "outputs": [],
   "source": [
    "plot(history5)"
   ]
  },
  {
   "cell_type": "markdown",
   "metadata": {},
   "source": [
    "### Model6: TimeDistributed Conv2D + GRU"
   ]
  },
  {
   "cell_type": "code",
   "execution_count": null,
   "metadata": {},
   "outputs": [],
   "source": [
    "from keras.layers import Dense, GRU, Flatten, TimeDistributed, Bidirectional, BatchNormalization, Activation, Dropout, GlobalAveragePooling2D, GlobalAveragePooling3D, ConvLSTM2D\n",
    "from keras.layers.convolutional import Conv2D, Conv3D, MaxPooling2D, MaxPooling3D\n",
    "model_6 = Sequential()\n",
    "model_6.add(TimeDistributed(Conv2D(32, (3,3), activation='relu'), input_shape=(x,y,z,3)))\n",
    "model_6.add(TimeDistributed( MaxPooling2D((2,2))))\n",
    "model_6.add(BatchNormalization())\n",
    "model_6.add(Dropout(0.2))\n",
    "\n",
    "model_6.add(TimeDistributed(Conv2D(64, (3,3), activation='relu')))\n",
    "model_6.add(TimeDistributed(MaxPooling2D((2,2))))\n",
    "model_6.add(BatchNormalization())\n",
    "model_6.add(Dropout(0.2))\n",
    "\n",
    "model_6.add(TimeDistributed(GlobalAveragePooling2D()))\n",
    "model_6.add(TimeDistributed(Dense(64, activation='relu')))\n",
    "model_6.add(BatchNormalization())\n",
    "model_6.add(Dropout(0.2))\n",
    "\n",
    "model_6.add(GRU(128))\n",
    "model_6.add(BatchNormalization())\n",
    "model_6.add(Dense(5, activation='softmax'))"
   ]
  },
  {
   "cell_type": "code",
   "execution_count": null,
   "metadata": {},
   "outputs": [],
   "source": [
    "optimiser = Adam(learning_rate=0.001)#write your optimizer\n",
    "model_6.compile(optimizer=optimiser, loss='categorical_crossentropy', metrics=['categorical_accuracy'])\n",
    "print (model_6.summary())"
   ]
  },
  {
   "cell_type": "code",
   "execution_count": null,
   "metadata": {},
   "outputs": [],
   "source": [
    "batch_size = 20\n",
    "train_generator = generator(train_path, train_doc, batch_size,x,y,z)\n",
    "val_generator = generator(val_path, val_doc, batch_size,x,y,z)"
   ]
  },
  {
   "cell_type": "code",
   "execution_count": null,
   "metadata": {},
   "outputs": [],
   "source": [
    "history6=model_6.fit(train_generator, steps_per_epoch=steps_per_epoch, epochs=25, verbose=1, \n",
    "                    callbacks=callbacks_list, validation_data=val_generator, \n",
    "                    validation_steps=validation_steps, class_weight=None, initial_epoch=0)"
   ]
  },
  {
   "cell_type": "code",
   "execution_count": null,
   "metadata": {},
   "outputs": [],
   "source": [
    "plot(history6)"
   ]
  },
  {
   "cell_type": "markdown",
   "metadata": {},
   "source": [
    "### Model7: Different hyperparamter for CNN and dropout"
   ]
  },
  {
   "cell_type": "code",
   "execution_count": null,
   "metadata": {},
   "outputs": [],
   "source": [
    "x = 30 # number of frames\n",
    "y = 120 # image width\n",
    "z = 120 # image height\n",
    "\n",
    "model_7 = Sequential()\n",
    "model_7.add(Conv3D(16, (3, 3, 3), padding='same',input_shape=(x,y,z,3)))\n",
    "model_7.add(Activation('relu'))\n",
    "model_7.add(BatchNormalization())\n",
    "model_7.add(MaxPooling3D(pool_size=(2, 2, 2)))\n",
    "\n",
    "model_7.add(Conv3D(32, (3, 3, 3), padding='same'))\n",
    "model_7.add(Activation('relu'))\n",
    "model_7.add(BatchNormalization())\n",
    "model_7.add(MaxPooling3D(pool_size=(2, 2, 2)))\n",
    "\n",
    "model_7.add(Conv3D(64, (2, 2, 2), padding='same'))\n",
    "model_7.add(Activation('relu'))\n",
    "model_7.add(BatchNormalization())\n",
    "model_7.add(MaxPooling3D(pool_size=(2, 2, 2)))\n",
    "\n",
    "model_7.add(Conv3D(128, (2, 2, 2), padding='same'))\n",
    "model_7.add(Activation('relu'))\n",
    "model_7.add(BatchNormalization())\n",
    "model_7.add(MaxPooling3D(pool_size=(2, 2, 2)))\n",
    "\n",
    "model_7.add(Flatten())\n",
    "model_7.add(Dense(64,activation='relu'))\n",
    "model_7.add(BatchNormalization())\n",
    "model_7.add(Dropout(0.25))\n",
    "\n",
    "model_7.add(Dense(64,activation='relu'))\n",
    "model_7.add(BatchNormalization())\n",
    "model_7.add(Dropout(0.25))\n",
    "\n",
    "model_7.add(Dense(5,activation='softmax'))\n",
    "\n",
    "optimiser = Adam(learning_rate=0.002)\n",
    "model_7.compile(optimizer=optimiser, loss='categorical_crossentropy', metrics=['categorical_accuracy'])\n",
    "print (model_7.summary())"
   ]
  },
  {
   "cell_type": "code",
   "execution_count": null,
   "metadata": {},
   "outputs": [],
   "source": [
    "batch_size = 20\n",
    "train_generator = generator(train_path, train_doc, batch_size,x,y,z)\n",
    "val_generator = generator(val_path, val_doc, batch_size,x,y,z)"
   ]
  },
  {
   "cell_type": "code",
   "execution_count": null,
   "metadata": {},
   "outputs": [],
   "source": [
    "history7=model_7.fit(train_generator, steps_per_epoch=steps_per_epoch, epochs=20, verbose=1, \n",
    "                    callbacks=callbacks_list, validation_data=val_generator, \n",
    "                    validation_steps=validation_steps, class_weight=None, initial_epoch=0)"
   ]
  },
  {
   "cell_type": "code",
   "execution_count": null,
   "metadata": {},
   "outputs": [],
   "source": [
    "plot(history7)"
   ]
  },
  {
   "cell_type": "markdown",
   "metadata": {},
   "source": [
    "### Model8: 160x160 image"
   ]
  },
  {
   "cell_type": "code",
   "execution_count": null,
   "metadata": {},
   "outputs": [],
   "source": [
    "x = 30 # number of frames\n",
    "y = 160 # image width\n",
    "z = 160 # image height\n",
    "\n",
    "model_8 = Sequential()\n",
    "model_8.add(Conv3D(16, (3, 3, 3), padding='same',input_shape=(x,y,z,3)))\n",
    "model_8.add(Activation('relu'))\n",
    "model_8.add(BatchNormalization())\n",
    "model_8.add(MaxPooling3D(pool_size=(2, 2, 2)))\n",
    "\n",
    "model_8.add(Conv3D(32, (3, 3, 3), padding='same'))\n",
    "model_8.add(Activation('relu'))\n",
    "model_8.add(BatchNormalization())\n",
    "model_8.add(MaxPooling3D(pool_size=(2, 2, 2)))\n",
    "\n",
    "model_8.add(Conv3D(64, (2, 2, 2), padding='same'))\n",
    "model_8.add(Activation('relu'))\n",
    "model_8.add(BatchNormalization())\n",
    "model_8.add(MaxPooling3D(pool_size=(2, 2, 2)))\n",
    "\n",
    "model_8.add(Conv3D(128, (2, 2, 2), padding='same'))\n",
    "model_8.add(Activation('relu'))\n",
    "model_8.add(BatchNormalization())\n",
    "model_8.add(MaxPooling3D(pool_size=(2, 2, 2)))\n",
    "\n",
    "model_8.add(Flatten())\n",
    "model_8.add(Dense(64,activation='relu'))\n",
    "model_8.add(BatchNormalization())\n",
    "model_8.add(Dropout(0.25))\n",
    "\n",
    "model_8.add(Dense(64,activation='relu'))\n",
    "model_8.add(BatchNormalization())\n",
    "model_8.add(Dropout(0.25))\n",
    "\n",
    "model_8.add(Dense(5,activation='softmax'))\n",
    "\n",
    "optimiser = Adam(learning_rate=0.002)\n",
    "model_8.compile(optimizer=optimiser, loss='categorical_crossentropy', metrics=['categorical_accuracy'])\n",
    "print (model_8.summary())"
   ]
  },
  {
   "cell_type": "code",
   "execution_count": null,
   "metadata": {},
   "outputs": [],
   "source": [
    "batch_size = 20\n",
    "train_generator = generator(train_path, train_doc, batch_size,x,y,z)\n",
    "val_generator = generator(val_path, val_doc, batch_size,x,y,z)"
   ]
  },
  {
   "cell_type": "code",
   "execution_count": null,
   "metadata": {},
   "outputs": [],
   "source": [
    "history8=model_8.fit(train_generator, steps_per_epoch=steps_per_epoch, epochs=20, verbose=1, \n",
    "                    callbacks=callbacks_list, validation_data=val_generator, \n",
    "                    validation_steps=validation_steps, class_weight=None, initial_epoch=0)"
   ]
  },
  {
   "cell_type": "code",
   "execution_count": null,
   "metadata": {},
   "outputs": [],
   "source": [
    "plot(history8)"
   ]
  },
  {
   "cell_type": "markdown",
   "metadata": {},
   "source": [
    "### Model9: Transfer learning"
   ]
  },
  {
   "cell_type": "code",
   "execution_count": null,
   "metadata": {},
   "outputs": [],
   "source": [
    "from keras.applications import mobilenet\n",
    "from keras.layers import Dense, GRU, Flatten, TimeDistributed, Bidirectional, BatchNormalization, Activation, Dropout, GlobalAveragePooling2D, GlobalAveragePooling3D, ConvLSTM2D\n",
    "# from keras.layers.convolutional import Conv2D, Conv3D, MaxPooling2D, MaxPooling3D\n",
    "from tensorflow.keras.layers import Conv3D, ConvLSTM2D,MaxPooling2D, MaxPooling3D\n",
    "from tensorflow.keras.optimizers import Adam\n",
    "x = 30 # number of frames\n",
    "y = 128 # image width\n",
    "z = 128 # image height\n",
    "mobilenet_transfer = mobilenet.MobileNet(weights='imagenet', include_top=False,input_shape=(y, z, 3))\n",
    "model_9 = Sequential()\n",
    "model_9.add(TimeDistributed(mobilenet_transfer,input_shape=(x,y,z,3)))\n",
    "\n",
    "\n",
    "model_9.add(TimeDistributed(BatchNormalization()))\n",
    "model_9.add(TimeDistributed(MaxPooling2D((2, 2))))\n",
    "model_9.add(TimeDistributed(Flatten()))\n",
    "\n",
    "model_9.add(GRU(32))\n",
    "model_9.add(Dropout(0.25))\n",
    "\n",
    "model_9.add(Dense(32,activation='relu'))\n",
    "model_9.add(Dropout(0.25))\n",
    "\n",
    "model_9.add(Dense(5,activation='softmax'))\n",
    "\n",
    "\n",
    "optimiser = Adam(learning_rate=0.002)\n",
    "model_9.compile(optimizer=optimiser, loss='categorical_crossentropy', metrics=['categorical_accuracy'])\n",
    "batch_size = 20\n",
    "train_generator = generator(train_path, train_doc, batch_size,x,y,z)\n",
    "val_generator = generator(val_path, val_doc, batch_size,x,y,z)"
   ]
  },
  {
   "cell_type": "code",
   "execution_count": null,
   "metadata": {},
   "outputs": [],
   "source": [
    "history9=model_9.fit(train_generator, steps_per_epoch=steps_per_epoch, epochs=20, verbose=1, \n",
    "                    callbacks=callbacks_list, validation_data=val_generator, \n",
    "                    validation_steps=validation_steps, class_weight=None, initial_epoch=0)"
   ]
  },
  {
   "cell_type": "code",
   "execution_count": null,
   "metadata": {},
   "outputs": [],
   "source": [
    "plot(history9)"
   ]
  }
 ],
 "metadata": {
  "kaggle": {
   "accelerator": "none",
   "dataSources": [],
   "dockerImageVersionId": 30919,
   "isGpuEnabled": false,
   "isInternetEnabled": true,
   "language": "python",
   "sourceType": "notebook"
  },
  "kernelspec": {
   "display_name": "Python 3 (ipykernel)",
   "language": "python",
   "name": "python3"
  },
  "language_info": {
   "codemirror_mode": {
    "name": "ipython",
    "version": 3
   },
   "file_extension": ".py",
   "mimetype": "text/x-python",
   "name": "python",
   "nbconvert_exporter": "python",
   "pygments_lexer": "ipython3",
   "version": "3.11.7"
  }
 },
 "nbformat": 4,
 "nbformat_minor": 4
}
